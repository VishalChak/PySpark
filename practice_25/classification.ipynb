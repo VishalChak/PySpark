{
 "cells": [
  {
   "cell_type": "code",
   "execution_count": 25,
   "id": "2db0b8b5-9298-4563-b48e-6c583e18cced",
   "metadata": {},
   "outputs": [],
   "source": [
    "from pyspark.sql import SparkSession\n",
    "from pyspark.sql.functions import udf, col\n",
    "from pyspark.sql.types import ArrayType, StringType\n",
    "from pyspark.ml.feature import CountVectorizer, StringIndexer\n",
    "from pyspark.ml.classification import LogisticRegression\n",
    "from pyspark.ml import Pipeline\n",
    "\n",
    "from nltk.stem import PorterStemmer\n",
    "from nltk.tokenize import word_tokenize"
   ]
  },
  {
   "cell_type": "code",
   "execution_count": 26,
   "id": "59ef3fd0-5d24-4170-a6a4-1760269dc57a",
   "metadata": {},
   "outputs": [
    {
     "ename": "IndentationError",
     "evalue": "unexpected indent (591800348.py, line 2)",
     "output_type": "error",
     "traceback": [
      "  \u001b[36mCell\u001b[39m\u001b[36m \u001b[39m\u001b[32mIn[26]\u001b[39m\u001b[32m, line 2\u001b[39m\n\u001b[31m    \u001b[39m\u001b[31m.getOrCreate()\u001b[39m\n    ^\n\u001b[31mIndentationError\u001b[39m\u001b[31m:\u001b[39m unexpected indent\n"
     ]
    }
   ],
   "source": [
    "spark = SparkSession.builder.appName(\"TextClassification\")\n",
    "    .getOrCreate()"
   ]
  },
  {
   "cell_type": "code",
   "execution_count": 27,
   "id": "a1cfe526-0183-422e-a16f-7866fcf7dc51",
   "metadata": {},
   "outputs": [],
   "source": [
    "# Sample data (text, label)\n",
    "data = [\n",
    "    (\"Cats are playing in the garden\", \"animal\"),\n",
    "    (\"Dogs are barking loudly\", \"animal\"),\n",
    "    (\"Stocks rose in early trading\", \"finance\"),\n",
    "    (\"Investors are watching markets closely\", \"finance\"),\n",
    "    (\"I love reading books\", \"hobby\"),\n",
    "    (\"He enjoys painting and drawing\", \"hobby\")\n",
    "]"
   ]
  },
  {
   "cell_type": "code",
   "execution_count": 28,
   "id": "e2334aba-e235-46b8-bf2a-184d3b016365",
   "metadata": {},
   "outputs": [
    {
     "name": "stdout",
     "output_type": "stream",
     "text": [
      "+--------------------+-------+\n",
      "|                text|  label|\n",
      "+--------------------+-------+\n",
      "|Cats are playing ...| animal|\n",
      "|Dogs are barking ...| animal|\n",
      "|Stocks rose in ea...|finance|\n",
      "|Investors are wat...|finance|\n",
      "|I love reading books|  hobby|\n",
      "|He enjoys paintin...|  hobby|\n",
      "+--------------------+-------+\n",
      "\n"
     ]
    }
   ],
   "source": [
    "df = spark.createDataFrame(data, ['text', 'label'])\n",
    "df.show()"
   ]
  },
  {
   "cell_type": "code",
   "execution_count": 32,
   "id": "834db93c-d0dd-4f8b-a10e-457e6323a5cb",
   "metadata": {},
   "outputs": [
    {
     "name": "stderr",
     "output_type": "stream",
     "text": [
      "[Stage 20:===================>                                      (1 + 2) / 3]"
     ]
    },
    {
     "name": "stdout",
     "output_type": "stream",
     "text": [
      "+--------------------+-------+--------------------+\n",
      "|                text|  label|       stemmed_words|\n",
      "+--------------------+-------+--------------------+\n",
      "|Cats are playing ...| animal|[cat, are, play, ...|\n",
      "|Dogs are barking ...| animal|[dog, are, bark, ...|\n",
      "|Stocks rose in ea...|finance|[stock, rose, in,...|\n",
      "|Investors are wat...|finance|[investor, are, w...|\n",
      "|I love reading books|  hobby|[i, love, read, b...|\n",
      "|He enjoys paintin...|  hobby|[he, enjoy, paint...|\n",
      "+--------------------+-------+--------------------+\n",
      "\n"
     ]
    },
    {
     "name": "stderr",
     "output_type": "stream",
     "text": [
      "                                                                                "
     ]
    }
   ],
   "source": [
    "stemmer = PorterStemmer()\n",
    "\n",
    "def stem_tokens(text):\n",
    "    tokens = word_tokenize(text.lower())\n",
    "    stems = [stemmer.stem(token) for token in tokens]\n",
    "    return stems\n",
    "\n",
    "### Register UDF\n",
    "stem_udf = udf(stem_tokens, ArrayType(StringType()))\n",
    "\n",
    "### Apply Stemming\n",
    "\n",
    "df_stemmed = df.withColumn(\"stemmed_words\" , stem_udf(col(\"text\")))\n",
    "df_stemmed.show()"
   ]
  },
  {
   "cell_type": "code",
   "execution_count": 35,
   "id": "44c53390-ad2e-4a33-8e75-8bb8784bcb79",
   "metadata": {},
   "outputs": [
    {
     "name": "stderr",
     "output_type": "stream",
     "text": [
      "25/05/24 12:24:57 WARN InstanceBuilder: Failed to load implementation from:dev.ludovic.netlib.blas.JNIBLAS\n",
      "                                                                                "
     ]
    }
   ],
   "source": [
    "### Featuer enginnering\n",
    "cv = CountVectorizer(inputCol=\"stemmed_words\", outputCol=\"features\")\n",
    "\n",
    "#### Label Encoding\n",
    "indexer = StringIndexer(inputCol=\"label\", outputCol=\"labelIndex\")\n",
    "\n",
    "### Classification\n",
    "lr = LogisticRegression(featuresCol=\"features\", labelCol=\"labelIndex\", maxIter=10)\n",
    "\n",
    "\n",
    "\n",
    "##build pipeline\n",
    "pipeline = Pipeline(stages=[cv, indexer, lr])\n",
    "\n",
    "## train model\n",
    "model = pipeline.fit(df_stemmed)\n"
   ]
  },
  {
   "cell_type": "code",
   "execution_count": 39,
   "id": "50412b02-d11b-42a9-8602-5c8d13b00c4b",
   "metadata": {},
   "outputs": [
    {
     "name": "stderr",
     "output_type": "stream",
     "text": [
      "[Stage 58:===================>                                      (1 + 2) / 3]"
     ]
    },
    {
     "name": "stdout",
     "output_type": "stream",
     "text": [
      "+--------------------------------------+-------+----------+\n",
      "|text                                  |label  |prediction|\n",
      "+--------------------------------------+-------+----------+\n",
      "|Cats are playing in the garden        |animal |0.0       |\n",
      "|Dogs are barking loudly               |animal |0.0       |\n",
      "|Stocks rose in early trading          |finance|1.0       |\n",
      "|Investors are watching markets closely|finance|1.0       |\n",
      "|I love reading books                  |hobby  |2.0       |\n",
      "|He enjoys painting and drawing        |hobby  |2.0       |\n",
      "+--------------------------------------+-------+----------+\n",
      "\n"
     ]
    },
    {
     "name": "stderr",
     "output_type": "stream",
     "text": [
      "                                                                                "
     ]
    }
   ],
   "source": [
    "predictions = model.transform(df_stemmed)\n",
    "predictions.select(\"text\", \"label\", \"prediction\").show(truncate=False)"
   ]
  },
  {
   "cell_type": "code",
   "execution_count": null,
   "id": "76e5fd40-4648-4ee7-9527-9ab2af604e3c",
   "metadata": {},
   "outputs": [],
   "source": []
  },
  {
   "cell_type": "code",
   "execution_count": null,
   "id": "8d006dfc-9fce-4a4e-83c3-1e7f8234d6b6",
   "metadata": {},
   "outputs": [],
   "source": []
  }
 ],
 "metadata": {
  "kernelspec": {
   "display_name": "Python 3 (ipykernel)",
   "language": "python",
   "name": "python3"
  },
  "language_info": {
   "codemirror_mode": {
    "name": "ipython",
    "version": 3
   },
   "file_extension": ".py",
   "mimetype": "text/x-python",
   "name": "python",
   "nbconvert_exporter": "python",
   "pygments_lexer": "ipython3",
   "version": "3.11.12"
  }
 },
 "nbformat": 4,
 "nbformat_minor": 5
}
